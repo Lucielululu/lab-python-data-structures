{
 "cells": [
  {
   "cell_type": "markdown",
   "metadata": {
    "tags": []
   },
   "source": [
    "# Lab | Data Structures "
   ]
  },
  {
   "cell_type": "markdown",
   "metadata": {},
   "source": [
    "## Exercise: Managing Customer Orders\n",
    "\n",
    "As part of a business venture, you are starting an online store that sells various products. To ensure smooth operations, you need to develop a program that manages customer orders and inventory.\n",
    "\n",
    "Follow the steps below to complete the exercise:\n",
    "\n",
    "1. Define a list called `products` that contains the following items: \"t-shirt\", \"mug\", \"hat\", \"book\", \"keychain\".\n",
    "\n",
    "2. Create an empty dictionary called `inventory`.\n",
    "\n",
    "3. Ask the user to input the quantity of each product available in the inventory. Use the product names from the `products` list as keys in the `inventory` dictionary and assign the respective quantities as values.\n",
    "\n",
    "4. Create an empty set called `customer_orders`.\n",
    "\n",
    "5. Ask the user to input the name of three products that a customer wants to order (from those in the products list, meaning three products out of \"t-shirt\", \"mug\", \"hat\", \"book\" or \"keychain\". Add each product name to the `customer_orders` set.\n",
    "\n",
    "6. Print the products in the `customer_orders` set.\n",
    "\n",
    "7. Calculate the following order statistics:\n",
    "   - Total Products Ordered: The total number of products in the `customer_orders` set.\n",
    "   - Percentage of Products Ordered: The percentage of products ordered compared to the total available products.\n",
    "   \n",
    "   Store these statistics in a tuple called `order_status`.\n",
    "\n",
    "8. Print the order statistics using the following format:\n",
    "   ```\n",
    "   Order Statistics:\n",
    "   Total Products Ordered: <total_products_ordered>\n",
    "   Percentage of Products Ordered: <percentage_ordered>% \n",
    "   ```\n",
    "\n",
    "9. Update the inventory by subtracting 1 from the quantity of each product. Modify the `inventory` dictionary accordingly.\n",
    "\n",
    "10. Print the updated inventory, displaying the quantity of each product on separate lines.\n",
    "\n",
    "Solve the exercise by implementing the steps using the Python concepts of lists, dictionaries, sets, and basic input/output operations. "
   ]
  },
  {
   "cell_type": "code",
   "execution_count": 9,
   "metadata": {},
   "outputs": [
    {
     "data": {
      "text/plain": [
       "['t-shirt', 'mug', 'hat', 'book', 'keychain']"
      ]
     },
     "execution_count": 9,
     "metadata": {},
     "output_type": "execute_result"
    }
   ],
   "source": [
    "# step 1:\n",
    "products =  [\"t-shirt\", \"mug\", \"hat\", \"book\", \"keychain\"]\n",
    "products"
   ]
  },
  {
   "cell_type": "code",
   "execution_count": 11,
   "metadata": {},
   "outputs": [],
   "source": [
    "# step 2:\n",
    "inventory= {}"
   ]
  },
  {
   "cell_type": "code",
   "execution_count": 13,
   "metadata": {},
   "outputs": [
    {
     "name": "stdin",
     "output_type": "stream",
     "text": [
      "how many t-shirt do you have in inventory? 5\n"
     ]
    },
    {
     "name": "stdout",
     "output_type": "stream",
     "text": [
      "5\n"
     ]
    },
    {
     "name": "stdin",
     "output_type": "stream",
     "text": [
      "how many mug do you have in inventory? 5\n"
     ]
    },
    {
     "name": "stdout",
     "output_type": "stream",
     "text": [
      "5\n"
     ]
    },
    {
     "name": "stdin",
     "output_type": "stream",
     "text": [
      "how many hat do you have in inventory? 5\n"
     ]
    },
    {
     "name": "stdout",
     "output_type": "stream",
     "text": [
      "5\n"
     ]
    },
    {
     "name": "stdin",
     "output_type": "stream",
     "text": [
      "how many book do you have in inventory? 5\n"
     ]
    },
    {
     "name": "stdout",
     "output_type": "stream",
     "text": [
      "5\n"
     ]
    },
    {
     "name": "stdin",
     "output_type": "stream",
     "text": [
      "how many keychain do you have in inventory? 5\n"
     ]
    },
    {
     "name": "stdout",
     "output_type": "stream",
     "text": [
      "5\n"
     ]
    }
   ],
   "source": [
    "#step 3:\n",
    "for i in products:\n",
    "   print( int(input ('how many ' + i +' do you have in inventory?')))"
   ]
  },
  {
   "cell_type": "code",
   "execution_count": 23,
   "metadata": {},
   "outputs": [
    {
     "name": "stdin",
     "output_type": "stream",
     "text": [
      "How many t-shirts do you have in inventory?: 15\n",
      "How many mugs do you have in inventory? 20\n",
      "How many books do you have in inventory? 5\n",
      "How many hats do you have in inventory? 3\n",
      "How many keychain do you have in inventory? 6\n"
     ]
    }
   ],
   "source": [
    "#step 3a: \n",
    "# question: how to use for loop for the products? is it possible?\n",
    "tshirt_quanity = int(input(\"How many t-shirts do you have in inventory?:\"))  \n",
    "mug_quantity = int(input(\"How many mugs do you have in inventory?\"))\n",
    "book_quantity= int(input(\"How many books do you have in inventory?\"))\n",
    "hat_quantity= int(input(\"How many hats do you have in inventory?\"))\n",
    "keychain_quantity= int(input(\"How many keychain do you have in inventory?\"))"
   ]
  },
  {
   "cell_type": "code",
   "execution_count": 15,
   "metadata": {},
   "outputs": [
    {
     "ename": "NameError",
     "evalue": "name 'tshirt_quanity' is not defined",
     "output_type": "error",
     "traceback": [
      "\u001b[1;31m---------------------------------------------------------------------------\u001b[0m",
      "\u001b[1;31mNameError\u001b[0m                                 Traceback (most recent call last)",
      "Cell \u001b[1;32mIn[15], line 3\u001b[0m\n\u001b[0;32m      1\u001b[0m \u001b[38;5;66;03m# step 3b:\u001b[39;00m\n\u001b[0;32m      2\u001b[0m \u001b[38;5;66;03m# understanding: the first empty dictionary (inventory) is just a place holder.Now we are redefining it.\u001b[39;00m\n\u001b[1;32m----> 3\u001b[0m inventory \u001b[38;5;241m=\u001b[39m {\u001b[38;5;124m'\u001b[39m\u001b[38;5;124mt-shirts\u001b[39m\u001b[38;5;124m'\u001b[39m: tshirt_quanity, \u001b[38;5;124m'\u001b[39m\u001b[38;5;124mmugs\u001b[39m\u001b[38;5;124m'\u001b[39m: mug_quantity, \u001b[38;5;124m'\u001b[39m\u001b[38;5;124mbooks\u001b[39m\u001b[38;5;124m'\u001b[39m: book_quantity, \u001b[38;5;124m'\u001b[39m\u001b[38;5;124mhats\u001b[39m\u001b[38;5;124m'\u001b[39m: hat_quantity, \u001b[38;5;124m'\u001b[39m\u001b[38;5;124mkeychains\u001b[39m\u001b[38;5;124m'\u001b[39m: keychain_quantity}\n\u001b[0;32m      5\u001b[0m \u001b[38;5;28mprint\u001b[39m(inventory)\n",
      "\u001b[1;31mNameError\u001b[0m: name 'tshirt_quanity' is not defined"
     ]
    }
   ],
   "source": [
    "# step 3b:\n",
    "# understanding: the first empty dictionary (inventory) is just a place holder.Now we are redefining it.\n",
    "inventory = {'t-shirts': tshirt_quanity, 'mugs': mug_quantity, 'books': book_quantity, 'hats': hat_quantity, 'keychains': keychain_quantity}\n",
    "\n",
    "print(inventory)"
   ]
  },
  {
   "cell_type": "code",
   "execution_count": 17,
   "metadata": {},
   "outputs": [
    {
     "ename": "SyntaxError",
     "evalue": "invalid syntax (694330094.py, line 2)",
     "output_type": "error",
     "traceback": [
      "\u001b[1;36m  Cell \u001b[1;32mIn[17], line 2\u001b[1;36m\u001b[0m\n\u001b[1;33m    customer_orders = set{}\u001b[0m\n\u001b[1;37m                         ^\u001b[0m\n\u001b[1;31mSyntaxError\u001b[0m\u001b[1;31m:\u001b[0m invalid syntax\n"
     ]
    }
   ],
   "source": [
    "# step 4:\n",
    "customer_orders = set{}"
   ]
  },
  {
   "cell_type": "code",
   "execution_count": null,
   "metadata": {},
   "outputs": [],
   "source": [
    "# step 5a:Ask the user to input the name of three products that a customer wants to order.\n",
    "order1 = input('please input the 1st product you want')\n",
    "order2 = input('please input the 2nd product you want')\n",
    "order3 = input('please input the 3rd product you want')"
   ]
  },
  {
   "cell_type": "code",
   "execution_count": 55,
   "metadata": {},
   "outputs": [
    {
     "name": "stdout",
     "output_type": "stream",
     "text": [
      "{'books', 't-shirts', 'mugs'}\n"
     ]
    }
   ],
   "source": [
    "# step 5b&6: Add each product name to the customer_orders set.\n",
    "customer_orders = {order1,order2,order3}\n",
    "print(customer_orders) # notice the output is not in the order as order 1-3?"
   ]
  },
  {
   "cell_type": "code",
   "execution_count": 64,
   "metadata": {},
   "outputs": [
    {
     "name": "stdout",
     "output_type": "stream",
     "text": [
      "3\n"
     ]
    }
   ],
   "source": [
    "# step 7:Calculate the Total Products Ordered: The total number of products in the customer_orders set.\n",
    "\n",
    "customer_orders_length = len(customer_orders)\n",
    "print(len(customer_orders))\n",
    "\n",
    "total_products_ordered = sum(inventory.values())\n",
    "percentage_ordered = (customer_orders_length / total_products_ordered) * 100\n",
    "\n",
    "# Step 8\n",
    "\n",
    "print(f\"Total Products Ordered: {total_value}\")\n",
    "print(\"Total Products Ordered:\",round(percentage_ordered, 2), \"%\")"
   ]
  },
  {
   "cell_type": "code",
   "execution_count": null,
   "metadata": {},
   "outputs": [],
   "source": []
  }
 ],
 "metadata": {
  "kernelspec": {
   "display_name": "Python [conda env:base] *",
   "language": "python",
   "name": "conda-base-py"
  },
  "language_info": {
   "codemirror_mode": {
    "name": "ipython",
    "version": 3
   },
   "file_extension": ".py",
   "mimetype": "text/x-python",
   "name": "python",
   "nbconvert_exporter": "python",
   "pygments_lexer": "ipython3",
   "version": "3.12.7"
  }
 },
 "nbformat": 4,
 "nbformat_minor": 4
}
