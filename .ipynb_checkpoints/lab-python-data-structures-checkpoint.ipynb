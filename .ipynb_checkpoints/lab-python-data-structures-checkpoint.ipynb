{
 "cells": [
  {
   "cell_type": "markdown",
   "metadata": {
    "tags": []
   },
   "source": [
    "# Lab | Data Structures "
   ]
  },
  {
   "cell_type": "markdown",
   "metadata": {},
   "source": [
    "## Exercise: Managing Customer Orders\n",
    "\n",
    "As part of a business venture, you are starting an online store that sells various products. To ensure smooth operations, you need to develop a program that manages customer orders and inventory.\n",
    "\n",
    "Follow the steps below to complete the exercise:\n",
    "\n",
    "1. Define a list called `products` that contains the following items: \"t-shirt\", \"mug\", \"hat\", \"book\", \"keychain\".\n",
    "\n",
    "2. Create an empty dictionary called `inventory`.\n",
    "\n",
    "3. Ask the user to input the quantity of each product available in the inventory. Use the product names from the `products` list as keys in the `inventory` dictionary and assign the respective quantities as values.\n",
    "\n",
    "4. Create an empty set called `customer_orders`.\n",
    "\n",
    "5. Ask the user to input the name of three products that a customer wants to order (from those in the products list, meaning three products out of \"t-shirt\", \"mug\", \"hat\", \"book\" or \"keychain\". Add each product name to the `customer_orders` set.\n",
    "\n",
    "6. Print the products in the `customer_orders` set.\n",
    "\n",
    "7. Calculate the following order statistics:\n",
    "   - Total Products Ordered: The total number of products in the `customer_orders` set.\n",
    "   - Percentage of Products Ordered: The percentage of products ordered compared to the total available products.\n",
    "   \n",
    "   Store these statistics in a tuple called `order_status`.\n",
    "\n",
    "8. Print the order statistics using the following format:\n",
    "   ```\n",
    "   Order Statistics:\n",
    "   Total Products Ordered: <total_products_ordered>\n",
    "   Percentage of Products Ordered: <percentage_ordered>% \n",
    "   ```\n",
    "\n",
    "9. Update the inventory by subtracting 1 from the quantity of each product. Modify the `inventory` dictionary accordingly.\n",
    "\n",
    "10. Print the updated inventory, displaying the quantity of each product on separate lines.\n",
    "\n",
    "Solve the exercise by implementing the steps using the Python concepts of lists, dictionaries, sets, and basic input/output operations. "
   ]
  },
  {
   "cell_type": "code",
   "execution_count": 68,
   "metadata": {},
   "outputs": [
    {
     "data": {
      "text/plain": [
       "['t-shirt', 'mug', 'hat', 'book', 'keychain']"
      ]
     },
     "execution_count": 68,
     "metadata": {},
     "output_type": "execute_result"
    }
   ],
   "source": [
    "# step 1:\n",
    "products =  [\"t-shirt\", \"mug\", \"hat\", \"book\", \"keychain\"]\n",
    "products"
   ]
  },
  {
   "cell_type": "code",
   "execution_count": 70,
   "metadata": {},
   "outputs": [],
   "source": [
    "# step 2:\n",
    "inventory= {}"
   ]
  },
  {
   "cell_type": "code",
   "execution_count": null,
   "metadata": {},
   "outputs": [],
   "source": [
    "#step 3:\n",
    "for i in products:\n",
    "   print( input ('how many ' + i +' do you have in inventory?'))"
   ]
  },
  {
   "cell_type": "code",
   "execution_count": 23,
   "metadata": {},
   "outputs": [
    {
     "name": "stdin",
     "output_type": "stream",
     "text": [
      "How many t-shirts do you have in inventory?: 15\n",
      "How many mugs do you have in inventory? 20\n",
      "How many books do you have in inventory? 5\n",
      "How many hats do you have in inventory? 3\n",
      "How many keychain do you have in inventory? 6\n"
     ]
    }
   ],
   "source": [
    "#step 3a: \n",
    "# question: how to use for loop for the products? is it possible?\n",
    "tshirt_quanity = int(input(\"How many t-shirts do you have in inventory?:\"))  \n",
    "mug_quantity = int(input(\"How many mugs do you have in inventory?\"))\n",
    "book_quantity= int(input(\"How many books do you have in inventory?\"))\n",
    "hat_quantity= int(input(\"How many hats do you have in inventory?\"))\n",
    "keychain_quantity= int(input(\"How many keychain do you have in inventory?\"))"
   ]
  },
  {
   "cell_type": "code",
   "execution_count": 27,
   "metadata": {},
   "outputs": [
    {
     "name": "stdout",
     "output_type": "stream",
     "text": [
      "{'t-shirts': 15, 'mugs': 20, 'books': 5, 'hats': 3, 'keychains': 6}\n"
     ]
    }
   ],
   "source": [
    "# step 3b:\n",
    "# understanding: the first empty dictionary (inventory) is just a place holder.Now we are redefining it.\n",
    "inventory = {'t-shirts': tshirt_quanity, 'mugs': mug_quantity, 'books': book_quantity, 'hats': hat_quantity, 'keychains': keychain_quantity}\n",
    "\n",
    "print(inventory)"
   ]
  },
  {
   "cell_type": "code",
   "execution_count": 57,
   "metadata": {},
   "outputs": [
    {
     "ename": "SyntaxError",
     "evalue": "invalid syntax (694330094.py, line 2)",
     "output_type": "error",
     "traceback": [
      "\u001b[1;36m  Cell \u001b[1;32mIn[57], line 2\u001b[1;36m\u001b[0m\n\u001b[1;33m    customer_orders = set{}\u001b[0m\n\u001b[1;37m                         ^\u001b[0m\n\u001b[1;31mSyntaxError\u001b[0m\u001b[1;31m:\u001b[0m invalid syntax\n"
     ]
    }
   ],
   "source": [
    "# step 4:\n",
    "customer_orders = set{}"
   ]
  },
  {
   "cell_type": "code",
   "execution_count": 50,
   "metadata": {},
   "outputs": [
    {
     "name": "stdin",
     "output_type": "stream",
     "text": [
      "please input the 1st product you want t-shirts\n",
      "please input the 2nd product you want books\n",
      "please input the 3rd product you want mugs\n"
     ]
    }
   ],
   "source": [
    "# step 5a:Ask the user to input the name of three products that a customer wants to order.\n",
    "order1 = input('please input the 1st product you want')\n",
    "order2 = input('please input the 2nd product you want')\n",
    "order3 = input('please input the 3rd product you want')"
   ]
  },
  {
   "cell_type": "code",
   "execution_count": 55,
   "metadata": {},
   "outputs": [
    {
     "name": "stdout",
     "output_type": "stream",
     "text": [
      "{'books', 't-shirts', 'mugs'}\n"
     ]
    }
   ],
   "source": [
    "# step 5b&6: Add each product name to the customer_orders set.\n",
    "customer_orders = {order1,order2,order3}\n",
    "print(customer_orders) # notice the output is not in the order as order 1-3?"
   ]
  },
  {
   "cell_type": "code",
   "execution_count": 64,
   "metadata": {},
   "outputs": [
    {
     "name": "stdout",
     "output_type": "stream",
     "text": [
      "3\n"
     ]
    }
   ],
   "source": [
    "# step 7:Calculate the Total Products Ordered: The total number of products in the customer_orders set.\n",
    "\n",
    "customer_orders_length = len(customer_orders)\n",
    "print(len(customer_orders))\n",
    "\n",
    "total_products_ordered = sum(inventory.values())\n",
    "percentage_ordered = (customer_orders_length / total_products_ordered) * 100\n",
    "\n",
    "# Step 8\n",
    "\n",
    "print(f\"Total Products Ordered: {total_value}\")\n",
    "print(\"Total Products Ordered:\",round(percentage_ordered, 2), \"%\")"
   ]
  },
  {
   "cell_type": "code",
   "execution_count": null,
   "metadata": {},
   "outputs": [],
   "source": []
  }
 ],
 "metadata": {
  "kernelspec": {
   "display_name": "Python [conda env:base] *",
   "language": "python",
   "name": "conda-base-py"
  },
  "language_info": {
   "codemirror_mode": {
    "name": "ipython",
    "version": 3
   },
   "file_extension": ".py",
   "mimetype": "text/x-python",
   "name": "python",
   "nbconvert_exporter": "python",
   "pygments_lexer": "ipython3",
   "version": "3.12.7"
  }
 },
 "nbformat": 4,
 "nbformat_minor": 4
}
