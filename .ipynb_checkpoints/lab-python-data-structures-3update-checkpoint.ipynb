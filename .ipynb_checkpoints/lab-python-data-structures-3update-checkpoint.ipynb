{
 "cells": [
  {
   "cell_type": "markdown",
   "metadata": {
    "tags": []
   },
   "source": [
    "# Lab | Data Structures "
   ]
  },
  {
   "cell_type": "markdown",
   "metadata": {},
   "source": [
    "## Exercise: Managing Customer Orders\n",
    "\n",
    "As part of a business venture, you are starting an online store that sells various products. To ensure smooth operations, you need to develop a program that manages customer orders and inventory.\n",
    "\n",
    "Follow the steps below to complete the exercise:\n",
    "\n",
    "1. Define a list called `products` that contains the following items: \"t-shirt\", \"mug\", \"hat\", \"book\", \"keychain\".\n",
    "\n",
    "2. Create an empty dictionary called `inventory`.\n",
    "\n",
    "3. Ask the user to input the quantity of each product available in the inventory. Use the product names from the `products` list as keys in the `inventory` dictionary and assign the respective quantities as values.\n",
    "\n",
    "4. Create an empty set called `customer_orders`.\n",
    "\n",
    "5. Ask the user to input the name of three products that a customer wants to order (from those in the products list, meaning three products out of \"t-shirt\", \"mug\", \"hat\", \"book\" or \"keychain\". Add each product name to the `customer_orders` set.\n",
    "\n",
    "6. Print the products in the `customer_orders` set.\n",
    "\n",
    "7. Calculate the following order statistics:\n",
    "   - Total Products Ordered: The total number of products in the `customer_orders` set.\n",
    "   - Percentage of Products Ordered: The percentage of products ordered compared to the total available products.\n",
    "   \n",
    "   Store these statistics in a tuple called `order_status`.\n",
    "\n",
    "8. Print the order statistics using the following format:\n",
    "   ```\n",
    "   Order Statistics:\n",
    "   Total Products Ordered: <total_products_ordered>\n",
    "   Percentage of Products Ordered: <percentage_ordered>% \n",
    "   ```\n",
    "\n",
    "9. Update the inventory by subtracting 1 from the quantity of each product. Modify the `inventory` dictionary accordingly.\n",
    "\n",
    "10. Print the updated inventory, displaying the quantity of each product on separate lines.\n",
    "\n",
    "Solve the exercise by implementing the steps using the Python concepts of lists, dictionaries, sets, and basic input/output operations. "
   ]
  },
  {
   "cell_type": "code",
   "execution_count": 2,
   "metadata": {},
   "outputs": [],
   "source": [
    "# Step 1: Define a list called products that contains the following items: \"t-shirt\", \"mug\", \"hat\", \"book\", \"keychain\".\n",
    "\n",
    "products = [\"t-shirt\", \"mug\", \"hat\", \"book\", \"keychain\"]"
   ]
  },
  {
   "cell_type": "code",
   "execution_count": 3,
   "metadata": {},
   "outputs": [],
   "source": [
    "# Step 2: Create an empty dictionary called inventory.\n",
    "inventory = {}"
   ]
  },
  {
   "cell_type": "code",
   "execution_count": 4,
   "metadata": {},
   "outputs": [
    {
     "name": "stdout",
     "output_type": "stream",
     "text": [
      "{'t-shirt': 5, 'mug': 10, 'hat': 15, 'book': 20, 'keychain': 25}\n"
     ]
    }
   ],
   "source": [
    "# Step 3: Ask the user to input the quantity of each product available in the inventory. \n",
    "# Use the product names from the products list as keys in the inventory dictionary and assign the respective quantities as values.\n",
    "for product in products:\n",
    "    qty = int(input(f\"How many {product} do you have?\"))\n",
    "    inventory[product] = qty\n",
    "print(inventory)"
   ]
  },
  {
   "cell_type": "code",
   "execution_count": 5,
   "metadata": {},
   "outputs": [],
   "source": [
    "# Step 4 : Create an empty set called customer_orders.\n",
    "customer_orders = set()"
   ]
  },
  {
   "cell_type": "code",
   "execution_count": 6,
   "metadata": {},
   "outputs": [],
   "source": [
    "# Step 5:\n",
    "# Ask the user to input the name of three products that a customer wants to order (from those in the products list, meaning three products)\n",
    "# Add each product name to the customer_orders set.\n",
    "\n",
    "for product in range (3):\n",
    "    product = input(\"What product do you want to buy?\")\n",
    "    customer_orders.add(product)"
   ]
  },
  {
   "cell_type": "code",
   "execution_count": 29,
   "metadata": {},
   "outputs": [
    {
     "name": "stdout",
     "output_type": "stream",
     "text": [
      "{'mug', 'hat', 'book'}\n"
     ]
    }
   ],
   "source": [
    "# Step 6: Print the products in the customer_orders set.\n",
    "print(customer_orders)"
   ]
  },
  {
   "cell_type": "code",
   "execution_count": 7,
   "metadata": {},
   "outputs": [
    {
     "name": "stdout",
     "output_type": "stream",
     "text": [
      "45\n",
      "60.0\n",
      "<class 'tuple'>\n"
     ]
    }
   ],
   "source": [
    "# Step 7:Calculate the following order statistics:\n",
    "\n",
    "# 1.Total Products Ordered: The total number of products in the customer_orders set.\n",
    "total_products_ordered = 0\n",
    "for product in customer_orders:\n",
    "    if product in products:\n",
    "        total_products_ordered += inventory[product]\n",
    "print(total_products_ordered)\n",
    "\n",
    "#2. Percentage of Products Ordered: The percentage of products ordered compared to the total available products.\n",
    "percentage_products_ordered = total_products_ordered/sum(inventory.values()) * 100\n",
    "print(percentage_products_ordered)\n",
    "\n",
    "# Store these statistics in a tuple called order_status.\n",
    "order_status = (total_products_ordered,percentage_products_ordered)\n",
    "print(type(order_status))"
   ]
  },
  {
   "cell_type": "code",
   "execution_count": 8,
   "metadata": {},
   "outputs": [
    {
     "name": "stdout",
     "output_type": "stream",
     "text": [
      "Order Status:\n",
      "Total Products Ordered: 45\n",
      "Total Products Ordered: 60.0 %\n"
     ]
    }
   ],
   "source": [
    "# Step 8 Formatting step 7 with wording:\n",
    "print(\"Order Status:\")\n",
    "print(f\"Total Products Ordered: {total_products_ordered}\")\n",
    "print(\"Total Products Ordered:\", round(percentage_products_ordered, 2), \"%\")"
   ]
  },
  {
   "cell_type": "code",
   "execution_count": 10,
   "metadata": {},
   "outputs": [
    {
     "name": "stdout",
     "output_type": "stream",
     "text": [
      "{'t-shirt': 3, 'mug': 8, 'hat': 13, 'book': 18, 'keychain': 23}\n"
     ]
    }
   ],
   "source": [
    "# Step 9 :Update the inventory by subtracting 1 from the quantity of each product. \n",
    "# Modify the inventory dictionary accordingly.\n",
    "\n",
    "# print(inventory) 可以先看下里面是啥。\n",
    "\n",
    "for product in inventory:\n",
    "    inventory[product] = inventory[product]-1\n",
    "print(inventory)\n",
    "# 目前的这个code每run一次就减一次。但是这个不是一个新的viarable，而是在更新已有的 inventory."
   ]
  }
 ],
 "metadata": {
  "kernelspec": {
   "display_name": "base",
   "language": "python",
   "name": "python3"
  },
  "language_info": {
   "codemirror_mode": {
    "name": "ipython",
    "version": 3
   },
   "file_extension": ".py",
   "mimetype": "text/x-python",
   "name": "python",
   "nbconvert_exporter": "python",
   "pygments_lexer": "ipython3",
   "version": "3.12.7"
  }
 },
 "nbformat": 4,
 "nbformat_minor": 4
}
