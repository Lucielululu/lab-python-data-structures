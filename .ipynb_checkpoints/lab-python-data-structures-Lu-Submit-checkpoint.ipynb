{
 "cells": [
  {
   "cell_type": "markdown",
   "metadata": {
    "tags": []
   },
   "source": [
    "# Lab | Data Structures "
   ]
  },
  {
   "cell_type": "markdown",
   "metadata": {},
   "source": [
    "## Exercise: Managing Customer Orders\n",
    "\n",
    "As part of a business venture, you are starting an online store that sells various products. To ensure smooth operations, you need to develop a program that manages customer orders and inventory.\n",
    "\n",
    "Follow the steps below to complete the exercise:\n",
    "\n",
    "1. Define a list called `products` that contains the following items: \"t-shirt\", \"mug\", \"hat\", \"book\", \"keychain\".\n",
    "\n",
    "2. Create an empty dictionary called `inventory`.\n",
    "\n",
    "3. Ask the user to input the quantity of each product available in the inventory. Use the product names from the `products` list as keys in the `inventory` dictionary and assign the respective quantities as values.\n",
    "\n",
    "4. Create an empty set called `customer_orders`.\n",
    "\n",
    "5. Ask the user to input the name of three products that a customer wants to order (from those in the products list, meaning three products out of \"t-shirt\", \"mug\", \"hat\", \"book\" or \"keychain\". Add each product name to the `customer_orders` set. \n",
    "\n",
    "6. Print the products in the `customer_orders` set.\n",
    "\n",
    "7. Calculate the following order statistics:\n",
    "   - Total Products Ordered: The total number of products in the `customer_orders` set.\n",
    "   - Percentage of Products Ordered: The percentage of products ordered compared to the total available products.\n",
    "   \n",
    "   Store these statistics in a tuple called `order_status`.\n",
    "\n",
    "8. Print the order statistics using the following format:\n",
    "   ```\n",
    "   Order Statistics:\n",
    "   Total Products Ordered: <total_products_ordered>\n",
    "   Percentage of Products Ordered: <percentage_ordered>% \n",
    "   ```\n",
    "\n",
    "9. Update the inventory by subtracting 1 from the quantity of each product. Modify the `inventory` dictionary accordingly.\n",
    "\n",
    "10. Print the updated inventory, displaying the quantity of each product on separate lines.\n",
    "\n",
    "Solve the exercise by implementing the steps using the Python concepts of lists, dictionaries, sets, and basic input/output operations. "
   ]
  },
  {
   "cell_type": "code",
   "execution_count": 192,
   "metadata": {},
   "outputs": [
    {
     "data": {
      "text/plain": [
       "['t-shirt', 'mug', 'hat', 'book', 'keychain']"
      ]
     },
     "execution_count": 192,
     "metadata": {},
     "output_type": "execute_result"
    }
   ],
   "source": [
    "# step 1: Creating empty list called products\n",
    "\n",
    "products = [\"t-shirt\", \"mug\", \"hat\", \"book\", \"keychain\"] \n",
    "products"
   ]
  },
  {
   "cell_type": "code",
   "execution_count": 194,
   "metadata": {},
   "outputs": [],
   "source": [
    "# step 2: creating empty dictionary called inventory\n",
    "inventory = {}"
   ]
  },
  {
   "cell_type": "code",
   "execution_count": 196,
   "metadata": {},
   "outputs": [
    {
     "name": "stdin",
     "output_type": "stream",
     "text": [
      "how many t-shirts do you have? 5\n",
      "how many mugs do you have? 10\n",
      "how many hats do you have? 15\n",
      "how many books do you have? 10\n",
      "how many keychains do you have? 5\n"
     ]
    }
   ],
   "source": [
    "# step 3a :Ask the user to input the quantity of each product available in the inventory. \n",
    "tshirts_qty = int(input('how many t-shirts do you have?'))\n",
    "mugs_qty = int(input('how many mugs do you have?'))\n",
    "hats_qty = int(input('how many hats do you have?'))\n",
    "books_qty = int(input('how many books do you have?'))\n",
    "keychains_qty = int(input('how many keychains do you have?'))"
   ]
  },
  {
   "cell_type": "code",
   "execution_count": 198,
   "metadata": {},
   "outputs": [
    {
     "name": "stdout",
     "output_type": "stream",
     "text": [
      "{'t-shirt': 5, 'mug': 10, 'hat': 15, 'book': 10, 'keychain': 5}\n"
     ]
    }
   ],
   "source": [
    "# Step 3b: Use the product names from the products list as keys in the inventory dictionary and assign the respective quantities as values.\n",
    "# 注意：前面的空inventory字典只是一个 place holder，现在等于是在给字典添加元素。\n",
    "\n",
    "inventory = {\"t-shirt\":tshirts_qty, \"mug\":mugs_qty, \"hat\":hats_qty, \"book\":books_qty,\"keychain\":keychains_qty}\n",
    "print(inventory)"
   ]
  },
  {
   "cell_type": "code",
   "execution_count": 176,
   "metadata": {},
   "outputs": [],
   "source": [
    "# 注意：这里要是不print就不会显示出int的结果，而是只有variable的名字。"
   ]
  },
  {
   "cell_type": "code",
   "execution_count": 200,
   "metadata": {},
   "outputs": [],
   "source": [
    "# Step 4 Creating Empty Set\n",
    "\n",
    "customer_orders = {}"
   ]
  },
  {
   "cell_type": "code",
   "execution_count": 207,
   "metadata": {},
   "outputs": [
    {
     "name": "stdin",
     "output_type": "stream",
     "text": [
      "What is the 1st product you want to order? mug\n",
      "What is the 2nd product you want to order? hat\n",
      "What is the 3rd product you want to order? book\n"
     ]
    }
   ],
   "source": [
    "# Step 5：Ask the user to input the name of three products that a customer wants to order. Add each product name to the customer_orders set.\n",
    "\n",
    "order1 = input('What is the 1st product you want to order?')\n",
    "order2 = input('What is the 2nd product you want to order?')\n",
    "order3 = input('What is the 3rd product you want to order?')\n",
    "customer_orders = {order1, order2, order3}"
   ]
  },
  {
   "cell_type": "code",
   "execution_count": 209,
   "metadata": {},
   "outputs": [
    {
     "name": "stdout",
     "output_type": "stream",
     "text": [
      "{'mug', 'hat', 'book'}\n"
     ]
    }
   ],
   "source": [
    "#Step 6: Print the products in the customer_orders set.\n",
    "print(customer_orders)"
   ]
  },
  {
   "cell_type": "code",
   "execution_count": 218,
   "metadata": {},
   "outputs": [
    {
     "name": "stdout",
     "output_type": "stream",
     "text": [
      "3\n",
      "45\n"
     ]
    }
   ],
   "source": [
    "# Step 7:Calculate the following order statistics:\n",
    "\n",
    "# 1.Total Products Ordered: The total number of products in the customer_orders set.。每种东西都全部买光？\n",
    "\n",
    "# 一共买了几种东西?\n",
    "customer_orders_length = len(customer_orders)\n",
    "print(len(customer_orders))\n",
    "\n",
    "#这几种东西一共多少个: 用.values() method 求 inventory字典的和？是吗？这难道不是问买的这三个东西一共多少个吗？\n",
    "total_products_ordered = sum(inventory.values())\n",
    "print(total_products_ordered)\n",
    "\n",
    "# 2. Percentage of Products Ordered: The percentage of products ordered compared to the total available products. \n",
    "#买的这三样东西的总数占所有库存总数的百分之几？\n",
    "percentage_ordered = (total_products_ordered) / sum(inventory.values() ) * 100\n",
    "\n",
    "\n"
   ]
  },
  {
   "cell_type": "code",
   "execution_count": 222,
   "metadata": {},
   "outputs": [
    {
     "ename": "NameError",
     "evalue": "name 'total_value' is not defined",
     "output_type": "error",
     "traceback": [
      "\u001b[1;31m---------------------------------------------------------------------------\u001b[0m",
      "\u001b[1;31mNameError\u001b[0m                                 Traceback (most recent call last)",
      "Cell \u001b[1;32mIn[222], line 3\u001b[0m\n\u001b[0;32m      1\u001b[0m \u001b[38;5;66;03m# Step 8 Formatting:\u001b[39;00m\n\u001b[1;32m----> 3\u001b[0m \u001b[38;5;28mprint\u001b[39m(\u001b[38;5;124mf\u001b[39m\u001b[38;5;124m\"\u001b[39m\u001b[38;5;124mTotal Products Ordered: \u001b[39m\u001b[38;5;132;01m{\u001b[39;00mtotal_value\u001b[38;5;132;01m}\u001b[39;00m\u001b[38;5;124m\"\u001b[39m)\n\u001b[0;32m      4\u001b[0m \u001b[38;5;28mprint\u001b[39m(\u001b[38;5;124m\"\u001b[39m\u001b[38;5;124mTotal Products Ordered:\u001b[39m\u001b[38;5;124m\"\u001b[39m,\u001b[38;5;28mround\u001b[39m(percentage_ordered, \u001b[38;5;241m2\u001b[39m), \u001b[38;5;124m\"\u001b[39m\u001b[38;5;124m%\u001b[39m\u001b[38;5;124m\"\u001b[39m)\n",
      "\u001b[1;31mNameError\u001b[0m: name 'total_value' is not defined"
     ]
    }
   ],
   "source": [
    "# Step 8 Formatting:\n",
    "\n",
    "print(f\"Total Products Ordered: {total_value}\")\n",
    "print(\"Total Products Ordered:\", round(percentage_ordered, 2), \"%\")"
   ]
  }
 ],
 "metadata": {
  "kernelspec": {
   "display_name": "Python [conda env:base] *",
   "language": "python",
   "name": "conda-base-py"
  },
  "language_info": {
   "codemirror_mode": {
    "name": "ipython",
    "version": 3
   },
   "file_extension": ".py",
   "mimetype": "text/x-python",
   "name": "python",
   "nbconvert_exporter": "python",
   "pygments_lexer": "ipython3",
   "version": "3.12.7"
  }
 },
 "nbformat": 4,
 "nbformat_minor": 4
}
