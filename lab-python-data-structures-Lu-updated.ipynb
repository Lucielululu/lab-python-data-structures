{
 "cells": [
  {
   "cell_type": "markdown",
   "metadata": {
    "tags": []
   },
   "source": [
    "# Lab | Data Structures "
   ]
  },
  {
   "cell_type": "markdown",
   "metadata": {},
   "source": [
    "## Exercise: Managing Customer Orders\n",
    "\n",
    "As part of a business venture, you are starting an online store that sells various products. To ensure smooth operations, you need to develop a program that manages customer orders and inventory.\n",
    "\n",
    "Follow the steps below to complete the exercise:\n",
    "\n",
    "1. Define a list called `products` that contains the following items: \"t-shirt\", \"mug\", \"hat\", \"book\", \"keychain\".\n",
    "\n",
    "2. Create an empty dictionary called `inventory`.\n",
    "\n",
    "3. Ask the user to input the quantity of each product available in the inventory. Use the product names from the `products` list as keys in the `inventory` dictionary and assign the respective quantities as values.\n",
    "\n",
    "4. Create an empty set called `customer_orders`.\n",
    "\n",
    "5. Ask the user to input the name of three products that a customer wants to order (from those in the products list, meaning three products out of \"t-shirt\", \"mug\", \"hat\", \"book\" or \"keychain\". Add each product name to the `customer_orders` set. \n",
    "\n",
    "6. Print the products in the `customer_orders` set.\n",
    "\n",
    "7. Calculate the following order statistics:\n",
    "   - Total Products Ordered: The total number of products in the `customer_orders` set.\n",
    "   - Percentage of Products Ordered: The percentage of products ordered compared to the total available products.\n",
    "   \n",
    "   Store these statistics in a tuple called `order_status`.\n",
    "\n",
    "8. Print the order statistics using the following format:\n",
    "   ```\n",
    "   Order Statistics:\n",
    "   Total Products Ordered: <total_products_ordered>\n",
    "   Percentage of Products Ordered: <percentage_ordered>% \n",
    "   ```\n",
    "\n",
    "9. Update the inventory by subtracting 1 from the quantity of each product. Modify the `inventory` dictionary accordingly.\n",
    "\n",
    "10. Print the updated inventory, displaying the quantity of each product on separate lines.\n",
    "\n",
    "Solve the exercise by implementing the steps using the Python concepts of lists, dictionaries, sets, and basic input/output operations. "
   ]
  },
  {
   "cell_type": "code",
   "execution_count": 242,
   "metadata": {},
   "outputs": [
    {
     "data": {
      "text/plain": [
       "['t-shirt', 'mug', 'hat', 'book', 'keychain']"
      ]
     },
     "execution_count": 242,
     "metadata": {},
     "output_type": "execute_result"
    }
   ],
   "source": [
    "# step 1: Creating list called products\n",
    "\n",
    "products = [\"t-shirt\", \"mug\", \"hat\", \"book\", \"keychain\"] \n",
    "products"
   ]
  },
  {
   "cell_type": "code",
   "execution_count": 244,
   "metadata": {},
   "outputs": [],
   "source": [
    "# step 2: creating empty dictionary called inventory\n",
    "inventory = {}"
   ]
  },
  {
   "cell_type": "code",
   "execution_count": 248,
   "metadata": {},
   "outputs": [
    {
     "name": "stdin",
     "output_type": "stream",
     "text": [
      "how many t-shirts do you have? 5\n",
      "how many mugs do you have? 10\n",
      "how many hats do you have? 15\n",
      "how many books do you have? 20\n",
      "how many keychains do you have? 25\n"
     ]
    }
   ],
   "source": [
    "# step 3a :Ask the user to input the quantity of each product available in the inventory. \n",
    "tshirts_qty = int(input('how many t-shirts do you have?'))\n",
    "mugs_qty = int(input('how many mugs do you have?'))\n",
    "hats_qty = int(input('how many hats do you have?'))\n",
    "books_qty = int(input('how many books do you have?'))\n",
    "keychains_qty = int(input('how many keychains do you have?'))"
   ]
  },
  {
   "cell_type": "code",
   "execution_count": 250,
   "metadata": {},
   "outputs": [
    {
     "name": "stdout",
     "output_type": "stream",
     "text": [
      "{'t-shirt': 5, 'mug': 10, 'hat': 15, 'book': 20, 'keychain': 25}\n"
     ]
    }
   ],
   "source": [
    "# Step 3b: Use the product names from the products list as keys in the inventory dictionary and assign the respective quantities as values.\n",
    "# 注意：前面的空inventory字典只是一个 place holder，现在等于是在给字典添加键值对。然后只需要 “人为地 ” assign product list 里的 value就行了。\n",
    "\n",
    "inventory = {\"t-shirt\":tshirts_qty, \"mug\":mugs_qty, \"hat\":hats_qty, \"book\":books_qty,\"keychain\":keychains_qty}\n",
    "print(inventory)"
   ]
  },
  {
   "cell_type": "code",
   "execution_count": 252,
   "metadata": {},
   "outputs": [],
   "source": [
    "# 注意：这里要是不print就不会显示出int的结果，而是只有variable的名字。??"
   ]
  },
  {
   "cell_type": "code",
   "execution_count": 254,
   "metadata": {},
   "outputs": [],
   "source": [
    "# Step 4 Creating Empty Set\n",
    "\n",
    "customer_orders = {}"
   ]
  },
  {
   "cell_type": "code",
   "execution_count": 258,
   "metadata": {},
   "outputs": [
    {
     "name": "stdin",
     "output_type": "stream",
     "text": [
      "What is the 1st product you want to order? mug\n",
      "What is the 2nd product you want to order? hat\n",
      "What is the 3rd product you want to order? book\n"
     ]
    }
   ],
   "source": [
    "# Step 5：Ask the user to input the name of three products that a customer wants to order. Add each product name to the customer_orders set.\n",
    "\n",
    "order1 = input('What is the 1st product you want to order?')\n",
    "order2 = input('What is the 2nd product you want to order?')\n",
    "order3 = input('What is the 3rd product you want to order?')\n",
    "customer_orders = {order1, order2, order3}"
   ]
  },
  {
   "cell_type": "code",
   "execution_count": 260,
   "metadata": {},
   "outputs": [
    {
     "name": "stdout",
     "output_type": "stream",
     "text": [
      "{'mug', 'hat', 'book'}\n"
     ]
    }
   ],
   "source": [
    "#Step 6: Print the products in the customer_orders set.\n",
    "print(customer_orders)"
   ]
  },
  {
   "cell_type": "code",
   "execution_count": 272,
   "metadata": {},
   "outputs": [
    {
     "name": "stdout",
     "output_type": "stream",
     "text": [
      "45\n",
      "60.0\n"
     ]
    }
   ],
   "source": [
    "# Step 7:Calculate the following order statistics:\n",
    "\n",
    "# 1.Total Products Ordered: The total number of products in the customer_orders set。假设选的3种东西都全部买光？求3样物品的和。\n",
    "total_products_ordered == inventory.get(\"mug\")+inventory.get(\"book\")+ inventory.get(\"hat\")\n",
    "print(total_products_ordered)\n",
    "\n",
    "\n",
    "# 2. Percentage of Products Ordered: The percentage of products ordered compared to the total available products. \n",
    "#买的这三样东西的总数占所有库存总数的百分之几？上一题已经求出 total order quantity了， 现在只要求出一共有多少总库存就可以算出百分比了。\n",
    "percentage_ordered = (total_products_ordered) / sum(inventory.values() ) * 100\n",
    "print(percentage_ordered)\n"
   ]
  },
  {
   "cell_type": "code",
   "execution_count": 276,
   "metadata": {},
   "outputs": [
    {
     "name": "stdout",
     "output_type": "stream",
     "text": [
      "Total Products Ordered: 45\n",
      "Total Products Ordered: 60.0 %\n"
     ]
    }
   ],
   "source": [
    "# Step 8 Formatting step 7 with wording:\n",
    "\n",
    "print(f\"Total Products Ordered: {total_products_ordered}\")\n",
    "print(\"Total Products Ordered:\", round(percentage_ordered, 2), \"%\")"
   ]
  },
  {
   "cell_type": "code",
   "execution_count": null,
   "metadata": {},
   "outputs": [],
   "source": [
    "# Step 9: Update the inventory by subtracting 1 from the quantity of each product. Modify the inventory dictionary accordingly. \n",
    "\n",
    "# Print the updated inventory, displaying the quantity of each product on separate lines."
   ]
  },
  {
   "cell_type": "code",
   "execution_count": 304,
   "metadata": {},
   "outputs": [
    {
     "name": "stdout",
     "output_type": "stream",
     "text": [
      "{'t-shirt': 4, 'mug': 9, 'hat': 14, 'book': 19, 'keychain': 24}\n"
     ]
    }
   ],
   "source": [
    "new_tshirts_qty = inventory.get(\"t-shirt\") - 1\n",
    "new_mug_qty = inventory.get(\"mug\") - 1\n",
    "new_hat_qty = inventory.get(\"hat\") - 1\n",
    "new_book_qty = inventory.get(\"book\") - 1\n",
    "new_keychain_qty = inventory.get(\"keychain\") - 1\n",
    "updated_inventory = {\"t-shirt\":new_tshirts_qty, \"mug\":new_mug_qty,\"hat\":new_hat_qty,\"book\":new_book_qty,\"keychain\":new_keychain_qty}\n",
    "print(updated_inventory)\n"
   ]
  },
  {
   "cell_type": "code",
   "execution_count": 306,
   "metadata": {},
   "outputs": [
    {
     "name": "stdout",
     "output_type": "stream",
     "text": [
      "t-shirt:4\n",
      "mug:9\n",
      "hat:14\n",
      "book:19\n",
      "keychain:24\n"
     ]
    }
   ],
   "source": [
    "for key,value in updated_inventory.items():\n",
    "    print(f\"{key}:{value}\")"
   ]
  },
  {
   "cell_type": "code",
   "execution_count": null,
   "metadata": {},
   "outputs": [],
   "source": []
  }
 ],
 "metadata": {
  "kernelspec": {
   "display_name": "Python [conda env:base] *",
   "language": "python",
   "name": "conda-base-py"
  },
  "language_info": {
   "codemirror_mode": {
    "name": "ipython",
    "version": 3
   },
   "file_extension": ".py",
   "mimetype": "text/x-python",
   "name": "python",
   "nbconvert_exporter": "python",
   "pygments_lexer": "ipython3",
   "version": "3.12.7"
  }
 },
 "nbformat": 4,
 "nbformat_minor": 4
}
