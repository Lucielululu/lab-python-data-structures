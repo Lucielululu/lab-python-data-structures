{
 "cells": [
  {
   "cell_type": "markdown",
   "metadata": {
    "tags": []
   },
   "source": [
    "# Lab | Data Structures "
   ]
  },
  {
   "cell_type": "markdown",
   "metadata": {},
   "source": [
    "## Exercise: Managing Customer Orders\n",
    "\n",
    "As part of a business venture, you are starting an online store that sells various products. To ensure smooth operations, you need to develop a program that manages customer orders and inventory.\n",
    "\n",
    "Follow the steps below to complete the exercise:\n",
    "\n",
    "1. Define a list called `products` that contains the following items: \"t-shirt\", \"mug\", \"hat\", \"book\", \"keychain\".\n",
    "\n",
    "2. Create an empty dictionary called `inventory`.\n",
    "\n",
    "3. Ask the user to input the quantity of each product available in the inventory. Use the product names from the `products` list as keys in the `inventory` dictionary and assign the respective quantities as values.\n",
    "\n",
    "4. Create an empty set called `customer_orders`.\n",
    "\n",
    "5. Ask the user to input the name of three products that a customer wants to order (from those in the products list, meaning three products out of \"t-shirt\", \"mug\", \"hat\", \"book\" or \"keychain\". Add each product name to the `customer_orders` set.\n",
    "\n",
    "6. Print the products in the `customer_orders` set.\n",
    "\n",
    "7. Calculate the following order statistics:\n",
    "   - Total Products Ordered: The total number of products in the `customer_orders` set.\n",
    "   - Percentage of Products Ordered: The percentage of products ordered compared to the total available products.\n",
    "   \n",
    "   Store these statistics in a tuple called `order_status`.\n",
    "\n",
    "8. Print the order statistics using the following format:\n",
    "   ```\n",
    "   Order Statistics:\n",
    "   Total Products Ordered: <total_products_ordered>\n",
    "   Percentage of Products Ordered: <percentage_ordered>% \n",
    "   ```\n",
    "\n",
    "9. Update the inventory by subtracting 1 from the quantity of each product. Modify the `inventory` dictionary accordingly.\n",
    "\n",
    "10. Print the updated inventory, displaying the quantity of each product on separate lines.\n",
    "\n",
    "Solve the exercise by implementing the steps using the Python concepts of lists, dictionaries, sets, and basic input/output operations. "
   ]
  },
  {
   "cell_type": "code",
   "execution_count": 13,
   "metadata": {},
   "outputs": [],
   "source": [
    "# 1. Define a list called products that contains the following items: \"t-shirt\", \"mug\", \"hat\", \"book\", \"keychain\".\n",
    "products = [\"t-shirt\", \"mug\", \"hat\", \"book\", \"keychain\"]\n",
    "# 2. Create an empty dictionary called inventory.\n",
    "inventory = {}"
   ]
  },
  {
   "cell_type": "code",
   "execution_count": 21,
   "metadata": {},
   "outputs": [
    {
     "name": "stdin",
     "output_type": "stream",
     "text": [
      "how many t-shirts are available in the inventory? 5\n",
      "how many mugs are available in the inventory? 10\n",
      "how many hats are available in the inventory? 15\n",
      "how many books are available in the inventory? 20\n",
      "how many keychains are available in the inventory? 25\n"
     ]
    },
    {
     "data": {
      "text/plain": [
       "{'t-shirt': 5, 'mug': 10, 'hat': 15, 'book': 20, 'keychain': 25}"
      ]
     },
     "execution_count": 21,
     "metadata": {},
     "output_type": "execute_result"
    }
   ],
   "source": [
    "# 3. Ask the user to input the quantity of each product available in the inventory. \n",
    "# Use the product names from the products list as keys in the inventory dictionary and assign the respective quantities as values.\n",
    "\n",
    "tshirt_qty = int(input(\"how many t-shirts are available in the inventory?\"))\n",
    "inventory[\"t-shirt\"] = tshirt_qty\n",
    "mug_qty = int(input(\"how many mugs are available in the inventory?\"))\n",
    "inventory[\"mug\"] = mug_qty\n",
    "hat_qty=int(input(\"how many hats are available in the inventory?\"))\n",
    "inventory[\"hat\"] = hat_qty\n",
    "book_qty = int(input(\"how many books are available in the inventory?\"))\n",
    "inventory[\"book\"] = book_qty\n",
    "keychain_qty = int(input(\"how many keychains are available in the inventory?\"))\n",
    "inventory[\"keychain\"] = keychain_qty\n",
    "\n",
    "inventory"
   ]
  },
  {
   "cell_type": "code",
   "execution_count": 37,
   "metadata": {},
   "outputs": [
    {
     "name": "stdin",
     "output_type": "stream",
     "text": [
      "What's the 1st item you want to order? hat\n",
      "What's the 2nd item you want to order? book\n",
      "What's the 3rd item you want to order? mug\n"
     ]
    },
    {
     "name": "stdout",
     "output_type": "stream",
     "text": [
      "{'mug', 'hat', 'book'}\n"
     ]
    }
   ],
   "source": [
    "# 4. Create an empty set called customer_orders.\n",
    "customer_orders = set() #❗这里要用 set().\n",
    "# 5. Ask the user to input the name of three products that a customer wants to order (from those in the products list)\n",
    "# Add each product name to the customer_orders set.\n",
    "# 6. Print the products in the customer_orders set.\n",
    "order_1 = input(\"What's the 1st item you want to order?\")\n",
    "order_2 = input(\"What's the 2nd item you want to order?\")\n",
    "order_3 = input(\"What's the 3rd item you want to order?\")\n",
    "customer_orders.add(order_1)\n",
    "customer_orders.add(order_2)\n",
    "customer_orders.add(order_3)\n",
    "print(customer_orders)"
   ]
  },
  {
   "cell_type": "code",
   "execution_count": 53,
   "metadata": {},
   "outputs": [
    {
     "data": {
      "text/plain": [
       "(3, 60.0)"
      ]
     },
     "execution_count": 53,
     "metadata": {},
     "output_type": "execute_result"
    }
   ],
   "source": [
    "# 8. Calculate the following order statistics:\n",
    "\n",
    "# Total Products Ordered: The total number of products in the customer_orders set.\n",
    "total_products_ordered = len(customer_orders)\n",
    "\n",
    "# Percentage of Products Ordered: The percentage of products ordered compared to the total available products.\n",
    "percentage_of_products_ordered = total_products_ordered / len(products)*100\n",
    "\n",
    "# Store these statistics in a tuple called order_status.\n",
    "oder_status = (total_products_ordered, percentage_of_products_ordered)\n",
    "oder_status"
   ]
  },
  {
   "cell_type": "code",
   "execution_count": 57,
   "metadata": {},
   "outputs": [
    {
     "data": {
      "text/plain": [
       "{'t-shirt': 3, 'mug': 9, 'hat': 14, 'book': 19, 'keychain': 24}"
      ]
     },
     "execution_count": 57,
     "metadata": {},
     "output_type": "execute_result"
    }
   ],
   "source": [
    "# 9. Update the inventory by subtracting 1 from the quantity of each product. Modify the inventory dictionary accordingly.\n",
    "\n",
    "# old inventory  {'t-shirt': 5, 'mug': 10, 'hat': 15, 'book': 20, 'keychain': 25}\n",
    "\n",
    "inventory[\"t-shirt\"] = inventory[\"t-shirt\"]-1\n",
    "inventory[\"mug\"] = inventory[\"mug\"]-1\n",
    "inventory[\"hat\"] = inventory[\"hat\"]-1\n",
    "inventory[\"book\"] = inventory[\"book\"]-1\n",
    "inventory[\"keychain\"] = inventory[\"keychain\"]-1\n",
    "inventory"
   ]
  },
  {
   "cell_type": "code",
   "execution_count": 75,
   "metadata": {},
   "outputs": [],
   "source": [
    "# ✔ .items() returns a list of key-value tuples.\n",
    "# ✔ The for item, quantity in inventory.items(): loop unpacks each tuple.\n",
    "# ✔ This makes the code cleaner and easier to read."
   ]
  },
  {
   "cell_type": "code",
   "execution_count": 67,
   "metadata": {},
   "outputs": [
    {
     "name": "stdout",
     "output_type": "stream",
     "text": [
      "t-shirt: 3\n",
      "mug: 9\n",
      "hat: 14\n",
      "book: 19\n",
      "keychain: 24\n"
     ]
    }
   ],
   "source": [
    "# 10. Print the updated inventory, displaying the quantity of each product on separate lines.\n",
    "for item, quantity in inventory.items():\n",
    "    print(f\"{item}: {quantity}\")"
   ]
  }
 ],
 "metadata": {
  "kernelspec": {
   "display_name": "Python 3 (ipykernel)",
   "language": "python",
   "name": "python3"
  },
  "language_info": {
   "codemirror_mode": {
    "name": "ipython",
    "version": 3
   },
   "file_extension": ".py",
   "mimetype": "text/x-python",
   "name": "python",
   "nbconvert_exporter": "python",
   "pygments_lexer": "ipython3",
   "version": "3.12.7"
  }
 },
 "nbformat": 4,
 "nbformat_minor": 4
}
